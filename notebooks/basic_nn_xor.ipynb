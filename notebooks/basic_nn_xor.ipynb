{
  "nbformat": 4,
  "nbformat_minor": 0,
  "metadata": {
    "colab": {
      "name": "basic_nn.ipynb",
      "provenance": []
    },
    "kernelspec": {
      "name": "python3",
      "display_name": "Python 3"
    }
  },
  "cells": [
    {
      "cell_type": "code",
      "metadata": {
        "id": "t4C5n-Xsg3T7",
        "colab_type": "code",
        "colab": {}
      },
      "source": [
        "!pip install preprocessing mathutils"
      ],
      "execution_count": null,
      "outputs": []
    },
    {
      "cell_type": "code",
      "metadata": {
        "id": "dGekjWnmgBcm",
        "colab_type": "code",
        "colab": {}
      },
      "source": [
        "import numpy as np\n",
        "import math\n",
        "import matplotlib.pyplot as plt\n",
        "import seaborn as sns\n",
        "from pylab import rcParams\n",
        "\n",
        "from preprocessing import *\n",
        "from mathutils import *\n",
        "\n",
        "%matplotlib inline\n",
        "\n",
        "sns.set(style = \"whitegrid\")\n",
        "\n",
        "rcParams[\"figure.figsize\"] = 12, 6\n",
        "\n",
        "random_seed = 42\n",
        "\n",
        "np.random.seed(random_seed)"
      ],
      "execution_count": 5,
      "outputs": []
    },
    {
      "cell_type": "code",
      "metadata": {
        "id": "r_QfCyh7gyOM",
        "colab_type": "code",
        "colab": {
          "base_uri": "https://localhost:8080/",
          "height": 34
        },
        "outputId": "bfa25688-f7ca-4da5-a946-f4d12ceae32b"
      },
      "source": [
        "def softmax(x):\n",
        "    \"\"\"Compute softmax values for each sets of scores in x.\"\"\"\n",
        "    e_x = np.exp(x - np.max(x))\n",
        "    return e_x / e_x.sum()\n",
        "softmax(np.array([[2, 4, 6, 8]]))"
      ],
      "execution_count": 6,
      "outputs": [
        {
          "output_type": "execute_result",
          "data": {
            "text/plain": [
              "array([[0.00214401, 0.0158422 , 0.11705891, 0.86495488]])"
            ]
          },
          "metadata": {
            "tags": []
          },
          "execution_count": 6
        }
      ]
    },
    {
      "cell_type": "markdown",
      "metadata": {
        "id": "rA7Y13-ChkXW",
        "colab_type": "text"
      },
      "source": [
        "Code for XOR function"
      ]
    },
    {
      "cell_type": "code",
      "metadata": {
        "id": "7l-Nt30UhIGK",
        "colab_type": "code",
        "colab": {}
      },
      "source": [
        "epochs = 60000\n",
        "# Layer sizes\n",
        "inputLayer, hiddenLayer, outputLayer = 2, 3, 1\n",
        "# Learning rate\n",
        "LR = 0.1 "
      ],
      "execution_count": 7,
      "outputs": []
    },
    {
      "cell_type": "code",
      "metadata": {
        "id": "siKmQ-BtiVxG",
        "colab_type": "code",
        "colab": {}
      },
      "source": [
        "# Data\n",
        "x = np.array([[0,0], [0,1], [1,0], [1,1]])\n",
        "y = np.array([ [0],   [1],   [1],   [0]])"
      ],
      "execution_count": 8,
      "outputs": []
    },
    {
      "cell_type": "code",
      "metadata": {
        "id": "9iItim32ifPh",
        "colab_type": "code",
        "colab": {
          "base_uri": "https://localhost:8080/",
          "height": 105
        },
        "outputId": "60846392-a2c3-4218-aac6-97b65257edd5"
      },
      "source": [
        "# Initializing weights to random numbers\n",
        "w_hidden = np.random.uniform(size=(inputLayer, hiddenLayer))\n",
        "w_output = np.random.uniform(size=(hiddenLayer,outputLayer))\n",
        "\n",
        "print(w_hidden)\n",
        "w_output"
      ],
      "execution_count": 11,
      "outputs": [
        {
          "output_type": "stream",
          "text": [
            "[[0.37454012 0.95071431 0.73199394]\n",
            " [0.59865848 0.15601864 0.15599452]]\n"
          ],
          "name": "stdout"
        },
        {
          "output_type": "execute_result",
          "data": {
            "text/plain": [
              "array([[0.05808361],\n",
              "       [0.86617615],\n",
              "       [0.60111501]])"
            ]
          },
          "metadata": {
            "tags": []
          },
          "execution_count": 11
        }
      ]
    },
    {
      "cell_type": "code",
      "metadata": {
        "id": "VbDPRcu8igJH",
        "colab_type": "code",
        "colab": {}
      },
      "source": [
        "# Activation FUnction\n",
        "def sigmoid (x): \n",
        "  return 1/(1 + np.exp(-x))\n",
        "\n",
        "# Derivative of Sigmoid\n",
        "def sigmoid_prime(x): \n",
        "  return x * (1 - x)"
      ],
      "execution_count": 12,
      "outputs": []
    },
    {
      "cell_type": "code",
      "metadata": {
        "id": "s8Sd3xPIjSql",
        "colab_type": "code",
        "colab": {
          "base_uri": "https://localhost:8080/",
          "height": 230
        },
        "outputId": "a898af39-6523-4bda-83ee-2a64201ba816"
      },
      "source": [
        "for epoch in range(epochs):\n",
        "\n",
        "  # Forward \n",
        "  # Dot product\n",
        "  act_hidden = sigmoid(np.dot(x, w_hidden))\n",
        "  output = np.dot(act_hidden, w_output)\n",
        "\n",
        "  # Caluculate the error\n",
        "  error = y - output\n",
        "\n",
        "  if epoch % 5000 == 0:\n",
        "    print(f\"error sum {sum(error)}\")\n",
        "\n",
        "  # Back Prop\n",
        "  dZ = error * LR\n",
        "  w_output += act_hidden.T.dot(dZ)\n",
        "  dH = dZ.dot(w_output.T) * sigmoid_prime(act_hidden)\n",
        "  w_hidden += x.T.dot(dH)"
      ],
      "execution_count": 14,
      "outputs": [
        {
          "output_type": "stream",
          "text": [
            "error sum [-1.77496016]\n",
            "error sum [0.02481767]\n",
            "error sum [0.01544889]\n",
            "error sum [0.01214582]\n",
            "error sum [0.01032507]\n",
            "error sum [0.00913186]\n",
            "error sum [0.00827274]\n",
            "error sum [0.00761624]\n",
            "error sum [0.00709348]\n",
            "error sum [0.00666447]\n",
            "error sum [0.00630417]\n",
            "error sum [0.00599601]\n"
          ],
          "name": "stdout"
        }
      ]
    },
    {
      "cell_type": "code",
      "metadata": {
        "id": "m79N3MJ5l-b4",
        "colab_type": "code",
        "colab": {
          "base_uri": "https://localhost:8080/",
          "height": 34
        },
        "outputId": "39291a1f-97d5-496a-f2cd-df3228ba6197"
      },
      "source": [
        "test = x[1]\n",
        "\n",
        "act_hidden = sigmoid(np.dot(test, w_hidden))\n",
        "np.round(np.dot(act_hidden, w_output))"
      ],
      "execution_count": 19,
      "outputs": [
        {
          "output_type": "execute_result",
          "data": {
            "text/plain": [
              "array([1.])"
            ]
          },
          "metadata": {
            "tags": []
          },
          "execution_count": 19
        }
      ]
    },
    {
      "cell_type": "code",
      "metadata": {
        "id": "QTbBIevhmKlX",
        "colab_type": "code",
        "colab": {}
      },
      "source": [
        ""
      ],
      "execution_count": null,
      "outputs": []
    }
  ]
}