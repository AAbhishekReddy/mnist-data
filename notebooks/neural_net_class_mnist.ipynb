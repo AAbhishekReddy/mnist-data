{
  "nbformat": 4,
  "nbformat_minor": 0,
  "metadata": {
    "colab": {
      "name": "Untitled11.ipynb",
      "provenance": []
    },
    "kernelspec": {
      "name": "python3",
      "display_name": "Python 3"
    },
    "accelerator": "GPU"
  },
  "cells": [
    {
      "cell_type": "code",
      "metadata": {
        "id": "QjoAUkkrEg-w",
        "colab_type": "code",
        "colab": {
          "base_uri": "https://localhost:8080/",
          "height": 87
        },
        "outputId": "2ebe6ce1-18e9-430e-d694-b7650f7f776c"
      },
      "source": [
        "import csv\n",
        "import numpy as np\n",
        "import matplotlib.pyplot as plt\n",
        "from keras.datasets import mnist\n",
        "\n",
        "(x_train,y_train),(x_test,y_test) = mnist.load_data()\n",
        "print(x_train.shape)\n",
        "print(x_test.shape)\n",
        "\n",
        "x_train = x_train.reshape(60000,784)/255\n",
        "x_test = x_test.reshape(10000,784)/255"
      ],
      "execution_count": 1,
      "outputs": [
        {
          "output_type": "stream",
          "text": [
            "Downloading data from https://storage.googleapis.com/tensorflow/tf-keras-datasets/mnist.npz\n",
            "11493376/11490434 [==============================] - 0s 0us/step\n",
            "(60000, 28, 28)\n",
            "(10000, 28, 28)\n"
          ],
          "name": "stdout"
        }
      ]
    },
    {
      "cell_type": "code",
      "metadata": {
        "id": "IYp1BVunEmuy",
        "colab_type": "code",
        "colab": {}
      },
      "source": [
        "bias0 = [0]*15\n",
        "bias1 = [0]*10\n",
        "re_bias0 = [0]*15\n",
        "re_bias1 = [0]*10\n",
        "weight0 = [[0 for i in range(784)]for i in range(15)]\n",
        "weight1 = [[0 for i in range(15)]for i in range(10)]\n",
        "re_weight0 = [[0 for i in range(784)]for i in range(15)]\n",
        "re_weight1 = [[0 for i in range(15)]for i in range(10)]\n",
        "\n",
        "Input0 = [0]*15\n",
        "Input1 = [0]*10\n",
        "Output0 = [0]*15\n",
        "Output1 = [0]*10\n",
        "\n",
        "Input0_test = [0]*15\n",
        "Input1_test = [0]*10\n",
        "Output0_test = [0]*15\n",
        "Output1_test = [0]*10\n",
        "\n",
        "for i in range(15):\n",
        "    bias0[i] = np.random.rand()*0.1\n",
        "for i in range(10):\n",
        "    bias1[i] = np.random.rand()*0.1\n",
        "for i in range(15):\n",
        "    for j in range(784):\n",
        "        weight0[i][j] = np.random.randn()*0.1\n",
        "for i in range(10):\n",
        "    for j in range(15):\n",
        "        weight1[i][j] = np.random.randn()*0.1"
      ],
      "execution_count": 2,
      "outputs": []
    },
    {
      "cell_type": "code",
      "metadata": {
        "id": "4X98bLsfEtxv",
        "colab_type": "code",
        "colab": {}
      },
      "source": [
        "def sigmoid(x):\n",
        "    return 1/(1+np.exp(-x))\n",
        "\n",
        "def diff(x):\n",
        "    return  (1-sigmoid(x))*sigmoid(x)    \n",
        "\n",
        "def softmax(x_array):\n",
        "    a = np.max(x_array)\n",
        "    exp_x = np.exp(x_array-a)\n",
        "    sum_exp_x = np.sum(exp_x)\n",
        "    y_array = exp_x/sum_exp_x\n",
        "    return y_array\n",
        "\n",
        "def delta(num,t_n,Op1,Ip1,we1):\n",
        "    sum_1 = 0\n",
        "    for i in range(10):\n",
        "        sum_1 += (Op1[i]-t_n[i])*we1[i][num]*diff(Ip1[i])\n",
        "    return sum_1\n",
        "\n",
        "def back_propagation(Out0,Out1,In0,In1,t_num,x_t,l_rate):\n",
        "    \n",
        "    global weight0\n",
        "    global weight1\n",
        "    global bias0\n",
        "    global bias1\n",
        "    \n",
        "    for i in range(10):\n",
        "        x = (Out1[i]-t_num[i])*diff(In1[i])\n",
        "        for j in range(15):\n",
        "            re_weight1[i][j] = x\n",
        "            weight1[i][j] -= l_rate*re_weight1[i][j]*Out0[j]\n",
        "    \n",
        "    for i in range(15):\n",
        "        x = delta(i,t_num,Out1,In1,weight1)*diff(In0[i])\n",
        "        for j in range(784):\n",
        "            re_weight0[i][j] = x\n",
        "            weight0[i][j] -= l_rate*re_weight0[i][j]*x_t[j]\n",
        "    \n",
        "    for i in range(10):\n",
        "        re_bias1[i] = (Out1[i]-t_num[i])*diff(In1[i])\n",
        "        bias1[i] -= l_rate*re_bias1[i]\n",
        "        \n",
        "    for i in range(15):\n",
        "        re_bias0[i] = delta(i,t_num,Out1,In1,weight1)*diff(In0[i])\n",
        "        bias0[i] -= l_rate*re_bias0[i]\n",
        "        \n",
        "def accuracy(y_list,t_list,switch):\n",
        "    max_y = np.argmax(y_list,axis=1)\n",
        "    max_t = np.argmax(t_list,axis=1)\n",
        "    if switch == \"train\":\n",
        "        return np.sum(max_y == max_t)/100\n",
        "    elif switch == \"test\":\n",
        "        return np.sum(max_y == max_t) / 10000\n",
        "\n",
        "def sum_of_squares_error(y,t):\n",
        "    return 0.5*np.sum((y-t)**2)\n",
        "        \n",
        "def make_round_num(n):\n",
        "    rounds = [0] * n\n",
        "    for i in range(n):\n",
        "        rounds[i] = i\n",
        "    return rounds\n",
        "\n",
        "def plot_figure(acc, loss, num):\n",
        "    x = make_round_num(num)\n",
        "    y = acc\n",
        "    z = loss\n",
        "    plt.plot(x, y, label = \"accuracy\")\n",
        "    plt.plot(x, z, label = \"loss\")\n",
        "    plt.legend(loc = \"lower right\")\n",
        "    plt.savefig(\"./train_acc_loss.jpg\")"
      ],
      "execution_count": 12,
      "outputs": []
    },
    {
      "cell_type": "code",
      "metadata": {
        "id": "QjaFkiV0E3qU",
        "colab_type": "code",
        "colab": {}
      },
      "source": [
        "learning_rate = 0.05\n",
        "epochs = 7\n",
        "input_words = 1    # max =<600\n",
        "train_loss_acc_figure_save_path = \"./mnist_no_keras_tensorflow_train.jpg\""
      ],
      "execution_count": 32,
      "outputs": []
    },
    {
      "cell_type": "code",
      "metadata": {
        "id": "g_PVaZhQE9tv",
        "colab_type": "code",
        "colab": {
          "base_uri": "https://localhost:8080/",
          "height": 762
        },
        "outputId": "cb0d02c1-fe51-4023-f961-96e251986dd8"
      },
      "source": [
        "all_train_accuracy = []\n",
        "all_train_loss = []\n",
        "\n",
        "for l in range(epochs):\n",
        "    print(str(l)+\" epochs\")\n",
        "    for k in range(input_words):\n",
        "        train_prediction = []\n",
        "        train_answer = []\n",
        "        print(\"During \"+str(l*input_words+k)+\" round\")\n",
        "        for j in range(100):  \n",
        "            for i in range(15):\n",
        "                Input0[i]  = np.dot(x_train[k*100+j],weight0[i])+bias0[i]\n",
        "                Output0[i] = sigmoid(Input0[i])\n",
        "            for i in range(10):\n",
        "                Input1[i] = np.dot(Output0,weight1[i])+bias1[i]\n",
        "            \n",
        "            Output1 = softmax(Input1)        \n",
        "            train_num = [0]*10\n",
        "            train_num[y_train[k*100+j]] = train_num[y_train[k*100+j]]+1\n",
        "        \n",
        "            train_prediction.append(Output1)\n",
        "            train_answer.append(train_num)\n",
        "\n",
        "            back_propagation(Output0,Output1,Input0,Input1,train_num,x_train[k*100+j],learning_rate)\n",
        "            \n",
        "        train_acc = accuracy(train_prediction,train_answer,\"train\")\n",
        "        train_loss = sum_of_squares_error(Output1,train_num)\n",
        "            \n",
        "        print(\"train_accuracy = \"+str(train_acc))\n",
        "        print(\"train_loss     = \"+str(train_loss))\n",
        "            \n",
        "        all_train_accuracy.append(train_acc)\n",
        "        all_train_loss.append(train_loss)\n",
        "    \n",
        "    \n",
        "        \n",
        "number = epochs*input_words          \n",
        "plot_figure(all_train_accuracy, all_train_loss,number)"
      ],
      "execution_count": 33,
      "outputs": [
        {
          "output_type": "stream",
          "text": [
            "0 epochs\n",
            "During 0 round\n",
            "train_accuracy = 0.99\n",
            "train_loss     = 0.05580859126355271\n",
            "1 epochs\n",
            "During 1 round\n",
            "train_accuracy = 0.99\n",
            "train_loss     = 0.046086697768335454\n",
            "2 epochs\n",
            "During 2 round\n",
            "train_accuracy = 0.99\n",
            "train_loss     = 0.04069079609142702\n",
            "3 epochs\n",
            "During 3 round\n",
            "train_accuracy = 0.99\n",
            "train_loss     = 0.037245429059176875\n",
            "4 epochs\n",
            "During 4 round\n",
            "train_accuracy = 0.99\n",
            "train_loss     = 0.034799048380800335\n",
            "5 epochs\n",
            "During 5 round\n",
            "train_accuracy = 0.99\n",
            "train_loss     = 0.03291460247715247\n",
            "6 epochs\n",
            "During 6 round\n",
            "train_accuracy = 1.0\n",
            "train_loss     = 0.03137145554775448\n"
          ],
          "name": "stdout"
        },
        {
          "output_type": "display_data",
          "data": {
            "image/png": "[encoded data removed]",
            "text/plain": [
              "<Figure size 432x288 with 1 Axes>"
            ]
          },
          "metadata": {
            "tags": [],
            "needs_background": "light"
          }
        }
      ]
    },
    {
      "cell_type": "code",
      "metadata": {
        "id": "6SgU6dMwFBMi",
        "colab_type": "code",
        "colab": {
          "base_uri": "https://localhost:8080/",
          "height": 52
        },
        "outputId": "7445aec6-93f4-4ef0-d53f-3d158d9839fa"
      },
      "source": [
        "test_prediction = []\n",
        "test_answer = []\n",
        "\n",
        "for j in range(10000):\n",
        "    for i in range(15):\n",
        "        Input0_test[i] = np.dot(x_test[j],weight0[i])+bias0[i]\n",
        "        Output0_test[i] = sigmoid(Input0_test[i])\n",
        "    for i in range(10):\n",
        "        Input1_test[i] = np.dot(Output0_test,weight1[i])+bias1[i]\n",
        "    Output1_test = softmax(Input1_test)\n",
        "    test_num = [0]*10\n",
        "    test_num[y_test[j]] = test_num[y_test[j]]+1\n",
        "        \n",
        "    test_prediction.append(Output1_test)\n",
        "    test_answer.append(test_num)\n",
        "    \n",
        "test_acc = accuracy(test_prediction,test_answer,\"test\")\n",
        "test_loss = sum_of_squares_error(Output1_test,test_num)\n",
        "    \n",
        "print(\"test_accuracy = \"+str(test_acc))\n",
        "print(\"test_loss     = \"+str(test_loss))"
      ],
      "execution_count": 34,
      "outputs": [
        {
          "output_type": "stream",
          "text": [
            "test_accuracy = 0.7357\n",
            "test_loss     = 0.06866682840257236\n"
          ],
          "name": "stdout"
        }
      ]
    },
    {
      "cell_type": "code",
      "metadata": {
        "id": "PaKwGl2MStlq",
        "colab_type": "code",
        "colab": {}
      },
      "source": [
        ""
      ],
      "execution_count": null,
      "outputs": []
    }
  ]
}